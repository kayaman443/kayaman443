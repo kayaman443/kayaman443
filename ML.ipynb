{
  "nbformat": 4,
  "nbformat_minor": 0,
  "metadata": {
    "colab": {
      "provenance": [],
      "authorship_tag": "ABX9TyPZIrlDHchu+iFCn3dvSQIC",
      "include_colab_link": true
    },
    "kernelspec": {
      "name": "python3",
      "display_name": "Python 3"
    },
    "language_info": {
      "name": "python"
    }
  },
  "cells": [
    {
      "cell_type": "markdown",
      "metadata": {
        "id": "view-in-github",
        "colab_type": "text"
      },
      "source": [
        "<a href=\"https://colab.research.google.com/github/kayaman443/kayaman443/blob/main/ML.ipynb\" target=\"_parent\"><img src=\"https://colab.research.google.com/assets/colab-badge.svg\" alt=\"Open In Colab\"/></a>"
      ]
    },
    {
      "cell_type": "markdown",
      "source": [
        "# Regresja"
      ],
      "metadata": {
        "id": "KV_aWX88cJFh"
      }
    },
    {
      "cell_type": "code",
      "execution_count": 51,
      "metadata": {
        "colab": {
          "base_uri": "https://localhost:8080/"
        },
        "id": "O4-_RSAwcGOe",
        "outputId": "c62d8de8-5007-4e5e-aa82-8ae33ab22aae"
      },
      "outputs": [
        {
          "output_type": "stream",
          "name": "stdout",
          "text": [
            "[(LinearRegression(), None), (KNeighborsRegressor(n_neighbors=3), None), (KNeighborsRegressor(), None), (LinearRegression(), PolynomialFeatures(include_bias=False)), (LinearRegression(), PolynomialFeatures(degree=3, include_bias=False)), (LinearRegression(), PolynomialFeatures(degree=4, include_bias=False)), (LinearRegression(), PolynomialFeatures(degree=5, include_bias=False))]\n"
          ]
        }
      ],
      "source": [
        "import pandas as pd\n",
        "import numpy as np\n",
        "import sklearn as sk\n",
        "import matplotlib.pyplot as plt\n",
        "import pickle\n",
        "size = 300\n",
        "X = np.random.rand(size)*5-2.5\n",
        "w4, w3, w2, w1, w0 = 1, 2, 1,-4, 2\n",
        "y = w4*(X**4) + w3*(X**3) + w2*(X**2) + w1*X + w0 + np.random.randn(size)*8-4\n",
        "df = pd.DataFrame({'x': X, 'y': y})\n",
        "df.to_csv('dane_do_regresji.csv',index=None)\n",
        "# df.plot.scatter(x='x',y='y')\n",
        "\n",
        "X_train, X_test, y_train, y_test = sk.model_selection.train_test_split(X,y, test_size=0.2, random_state = 42)\n",
        "\n",
        "#Linear\n",
        "lin_reg = sk.linear_model.LinearRegression()\n",
        "lin_reg.fit(X_train.reshape(-1, 1), y_train)\n",
        "y_pred_test = lin_reg.predict(X_test.reshape(-1, 1))\n",
        "y_pred_train = lin_reg.predict(X_train.reshape(-1, 1))\n",
        "# print(lin_reg.score(X_test.reshape(-1, 1), y_test))\n",
        "lin_reg_mse_test = sk.metrics.mean_squared_error(y_test, y_pred_test)\n",
        "lin_reg_mse_train = sk.metrics.mean_squared_error(y_train, y_pred_train)\n",
        "\n",
        "#Polynomial\n",
        "poly_features = []\n",
        "poly_regs = []\n",
        "poly_mses_train = []\n",
        "poly_mses_test = []\n",
        "\n",
        "def poly_reg(X_train, X_test, y_train, y_test, degree):\n",
        "  poly_feature = sk.preprocessing.PolynomialFeatures(degree=degree, include_bias=False)\n",
        "  poly_features.append(poly_feature)\n",
        "\n",
        "  X_train_poly = poly_feature.fit_transform(X_train.reshape(-1, 1))\n",
        "  X_test_poly = poly_feature.fit_transform(X_test.reshape(-1, 1))\n",
        "\n",
        "  poly_reg = sk.linear_model.LinearRegression()\n",
        "  poly_reg.fit(X_train_poly, y_train)\n",
        "  poly_regs.append(poly_reg)\n",
        "\n",
        "  pol_mse_test = sk.metrics.mean_squared_error(y_test, poly_reg.predict(X_test_poly))\n",
        "  pol_mse_train = sk.metrics.mean_squared_error(y_train, poly_reg.predict(X_train_poly))\n",
        "  poly_mses_test.append(pol_mse_test)\n",
        "  poly_mses_train.append(pol_mse_train)\n",
        "\n",
        "for i in range(2,6):\n",
        "  poly_reg(X_train, X_test, y_train, y_test, i)\n",
        "\n",
        "#KNN\n",
        "knn_reg3 = sk.neighbors.KNeighborsRegressor(n_neighbors = 3)\n",
        "knn_reg3.fit(X_train.reshape(-1, 1), y_train)\n",
        "y_pred_knn3_test = knn_reg3.predict(X_test.reshape(-1, 1))\n",
        "y_pred_knn3_train = knn_reg3.predict(X_train.reshape(-1, 1))\n",
        "knn3_mse_test = sk.metrics.mean_squared_error(y_test, y_pred_knn3_test)\n",
        "knn3_mse_train = sk.metrics.mean_squared_error(y_train, y_pred_knn3_train)\n",
        "\n",
        "knn_reg5 = sk.neighbors.KNeighborsRegressor(n_neighbors = 5)\n",
        "knn_reg5.fit(X_train.reshape(-1, 1), y_train)\n",
        "y_pred_knn5_test = knn_reg5.predict(X_test.reshape(-1, 1))\n",
        "y_pred_knn5_train = knn_reg5.predict(X_train.reshape(-1, 1))\n",
        "knn5_mse_test = sk.metrics.mean_squared_error(y_test, y_pred_knn5_test)\n",
        "knn5_mse_train = sk.metrics.mean_squared_error(y_train, y_pred_knn5_train)\n",
        "\n",
        "#DF\n",
        "df_1 = pd.DataFrame({'train_mse': [ lin_reg_mse_train, knn3_mse_train, knn5_mse_test, poly_mses_train[0], poly_mses_train[1], poly_mses_train[2], poly_mses_train[3]], 'test_mse': [lin_reg_mse_test, knn3_mse_test, knn5_mse_test, poly_mses_test[0], poly_mses_test[1], poly_mses_test[2], poly_mses_test[3]]})\n",
        "df_index=['lin_reg', 'knn3', 'knn5', 'poly2', 'poly3', 'poly4', 'poly5']\n",
        "df_1.index = df_index\n",
        "df_1.head(10)\n",
        "df_1.to_pickle('mse.pkl')\n",
        "\n",
        "reg_list = [(lin_reg, None), (knn_reg3, None), (knn_reg5, None)]\n",
        "for i in range(len(poly_regs)):\n",
        "  reg_list.append((poly_regs[i], poly_features[i]))\n",
        "print(reg_list)\n",
        "with open('reg.pkl', 'wb') as f:\n",
        "  pickle.dump(reg_list, f)\n",
        "\n",
        "#PLOT\n",
        "# plt.figure(figsize=(6.5, 6.5))\n",
        "# plt.scatter(X, y)\n",
        "# plt.plot(X_test, y_pred, color='red')\n",
        "#plt.plot(X_curve, y_curve, color='green')\n",
        "# plt.plot(X_test, y_pred_knn, color='yellow')\n",
        "# plt.xlabel('x')\n",
        "# plt.ylabel('y')\n",
        "# plt.show()"
      ]
    },
    {
      "cell_type": "markdown",
      "source": [],
      "metadata": {
        "id": "3wS6_0RacHQx"
      }
    }
  ]
}